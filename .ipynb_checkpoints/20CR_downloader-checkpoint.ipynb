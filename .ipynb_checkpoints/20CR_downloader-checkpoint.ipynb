{
 "cells": [
  {
   "cell_type": "markdown",
   "id": "66082720-8111-4989-8ee8-b4b087e019b2",
   "metadata": {},
   "source": [
    "### Needed variables from 20CR; here are some links:\n",
    "- https://portal.nersc.gov/project/20C_Reanalysis//\n",
    "- https://psl.noaa.gov/data/gridded/data.20thC_ReanV3.html\n",
    "- https://psl.noaa.gov/thredds/catalog/Datasets/20thC_ReanV3/catalog.html"
   ]
  },
  {
   "cell_type": "markdown",
   "id": "2a0e6a48-dd99-4652-afd3-e1a235f07277",
   "metadata": {},
   "source": [
    "### ENSO\n",
    "- Skin temperature (also need land/sea mask?)\n",
    "- Mean sea-level pressure (just tahiti and darwin?)\n",
    "\n",
    "### MJO \n",
    "- Outgoing longwave radiation\n",
    "- $u$ and $v$ wind at 200-hPa (to calculate velocity potential)\n",
    "\n",
    "### PNA\n",
    "- $Z$ @ 500-hPa\n",
    "\n",
    "### AAM\n",
    "- $u$-wind on all pressure levels"
   ]
  },
  {
   "cell_type": "code",
   "execution_count": 6,
   "id": "17b645c0-24d8-42b3-90bf-c1d0d37b784b",
   "metadata": {},
   "outputs": [
    {
     "name": "stdout",
     "output_type": "stream",
     "text": [
      "<xarray.DataArray 'hgt' (day: 31, lat: 181, lon: 360)>\n",
      "array([[[4982.7285, 4982.7285, 4982.7285, ..., 4982.7285, 4982.7285,\n",
      "         4982.7285],\n",
      "        [4987.4966, 4987.5024, 4987.517 , ..., 4987.4478, 4987.4634,\n",
      "         4987.479 ],\n",
      "        [4990.7837, 4990.8364, 4990.8813, ..., 4990.6245, 4990.675 ,\n",
      "         4990.727 ],\n",
      "        ...,\n",
      "        [5247.199 , 5247.1606, 5247.111 , ..., 5247.348 , 5247.298 ,\n",
      "         5247.2524],\n",
      "        [5248.6284, 5248.618 , 5248.605 , ..., 5248.6685, 5248.656 ,\n",
      "         5248.641 ],\n",
      "        [5251.1587, 5251.1587, 5251.1587, ..., 5251.1587, 5251.1587,\n",
      "         5251.1587]],\n",
      "\n",
      "       [[4982.216 , 4982.216 , 4982.216 , ..., 4982.216 , 4982.216 ,\n",
      "         4982.216 ],\n",
      "        [4983.7534, 4983.749 , 4983.7446, ..., 4983.771 , 4983.769 ,\n",
      "         4983.7573],\n",
      "        [4984.5493, 4984.5693, 4984.5957, ..., 4984.488 , 4984.5176,\n",
      "         4984.5356],\n",
      "...\n",
      "        [5243.905 , 5243.838 , 5243.7695, ..., 5244.098 , 5244.0293,\n",
      "         5243.967 ],\n",
      "        [5244.608 , 5244.5625, 5244.5244, ..., 5244.7324, 5244.688 ,\n",
      "         5244.6514],\n",
      "        [5246.3604, 5246.3604, 5246.3604, ..., 5246.3604, 5246.3604,\n",
      "         5246.3604]],\n",
      "\n",
      "       [[4971.177 , 4971.177 , 4971.177 , ..., 4971.177 , 4971.177 ,\n",
      "         4971.177 ],\n",
      "        [4971.103 , 4971.104 , 4971.102 , ..., 4971.104 , 4971.104 ,\n",
      "         4971.0947],\n",
      "        [4970.3135, 4970.329 , 4970.354 , ..., 4970.2534, 4970.2725,\n",
      "         4970.3003],\n",
      "        ...,\n",
      "        [5257.9287, 5257.781 , 5257.6367, ..., 5258.3706, 5258.225 ,\n",
      "         5258.078 ],\n",
      "        [5254.968 , 5254.894 , 5254.811 , ..., 5255.2085, 5255.1357,\n",
      "         5255.058 ],\n",
      "        [5252.7583, 5252.7583, 5252.7583, ..., 5252.7583, 5252.7583,\n",
      "         5252.7583]]], dtype=float32)\n",
      "Coordinates:\n",
      "    level    float32 500.0\n",
      "  * lat      (lat) float32 -90.0 -89.0 -88.0 -87.0 -86.0 ... 87.0 88.0 89.0 90.0\n",
      "  * lon      (lon) float32 0.0 1.0 2.0 3.0 4.0 ... 355.0 356.0 357.0 358.0 359.0\n",
      "  * day      (day) int64 1 2 3 4 5 6 7 8 9 10 ... 22 23 24 25 26 27 28 29 30 31\n"
     ]
    }
   ],
   "source": [
    "import xarray as xr\n",
    "\n",
    "\n",
    "def download_variable(var, yr):\n",
    "    if yr <= 1980:\n",
    "        dirlab = 'prsSI'\n",
    "    else:\n",
    "        dirlab = 'prsMO'\n",
    "    ds = xr.open_dataset(f'https://psl.noaa.gov/thredds/dodsC/Datasets/20thC_ReanV3/{dirlab}/{var}.{yr}.nc')\n",
    "\n",
    "    if var == 'hgt':\n",
    "        z500 = ds.hgt.sel(level=500.).groupby('time.day').mean(dim='time')\n",
    "        print(z500)\n",
    "        #z500_1 = ds.hgt.sel(level=500., time=slice(str(yr) + '-01-01', str(yr) + '-06-30'))\n",
    "        #z500_2 = ds.hgt.sel(level=500., time=slice(str(yr) + '-07-01', str(yr) + '-12-31'))\n",
    "        #z500_1.to_netcdf(f'/home/scratch/z500_{yr}_1.nc')\n",
    "        #z500_2.to_netcdf(f'/home/scratch/z500_{yr}_2.nc')\n",
    "        #os.system(f'ncecat z500_{yr}_1.nc z500_{yr}_2.nc z500_{yr}.nc')\n",
    "        \n",
    "        \n",
    "        \n",
    "download_variable('hgt', 1988)"
   ]
  },
  {
   "cell_type": "code",
   "execution_count": 5,
   "id": "5f5403b6-9fc0-4fad-80ef-ea3d72bae8ce",
   "metadata": {},
   "outputs": [
    {
     "ename": "NameError",
     "evalue": "name 'z500' is not defined",
     "output_type": "error",
     "traceback": [
      "\u001b[0;31m---------------------------------------------------------------------------\u001b[0m",
      "\u001b[0;31mNameError\u001b[0m                                 Traceback (most recent call last)",
      "Input \u001b[0;32mIn [5]\u001b[0m, in \u001b[0;36m<module>\u001b[0;34m\u001b[0m\n\u001b[0;32m----> 1\u001b[0m \u001b[43mz500\u001b[49m\n",
      "\u001b[0;31mNameError\u001b[0m: name 'z500' is not defined"
     ]
    }
   ],
   "source": [
    "z500"
   ]
  },
  {
   "cell_type": "code",
   "execution_count": null,
   "id": "9f029e92-3917-4584-a658-1bde11fa5ae7",
   "metadata": {},
   "outputs": [],
   "source": []
  }
 ],
 "metadata": {
  "kernelspec": {
   "display_name": "Python [conda env:pyEAE]",
   "language": "python",
   "name": "conda-env-pyEAE-py"
  },
  "language_info": {
   "codemirror_mode": {
    "name": "ipython",
    "version": 3
   },
   "file_extension": ".py",
   "mimetype": "text/x-python",
   "name": "python",
   "nbconvert_exporter": "python",
   "pygments_lexer": "ipython3",
   "version": "3.9.0"
  }
 },
 "nbformat": 4,
 "nbformat_minor": 5
}
