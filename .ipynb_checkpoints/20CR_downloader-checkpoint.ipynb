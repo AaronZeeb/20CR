{
 "cells": [
  {
   "cell_type": "markdown",
   "id": "66082720-8111-4989-8ee8-b4b087e019b2",
   "metadata": {},
   "source": [
    "### Needed variables from 20CR; here are some links:\n",
    "- https://portal.nersc.gov/project/20C_Reanalysis//\n",
    "- https://psl.noaa.gov/data/gridded/data.20thC_ReanV3.html\n",
    "- https://psl.noaa.gov/thredds/catalog/Datasets/20thC_ReanV3/catalog.html"
   ]
  },
  {
   "cell_type": "markdown",
   "id": "2a0e6a48-dd99-4652-afd3-e1a235f07277",
   "metadata": {},
   "source": [
    "### ENSO\n",
    "- Skin temperature (also need land/sea mask?)\n",
    "- Mean sea-level pressure (just tahiti and darwin?)\n",
    "\n",
    "### MJO \n",
    "- Outgoing longwave radiation\n",
    "- $u$ and $v$ wind at 200-hPa (to calculate velocity potential)\n",
    "\n",
    "### PNA\n",
    "- $Z$ @ 500-hPa\n",
    "\n",
    "### AAM\n",
    "- $u$-wind on all pressure levels"
   ]
  },
  {
   "cell_type": "code",
   "execution_count": 1,
   "id": "17b645c0-24d8-42b3-90bf-c1d0d37b784b",
   "metadata": {},
   "outputs": [
    {
     "name": "stdout",
     "output_type": "stream",
     "text": [
      "<xarray.DataArray 'hgt' (time: 366, lat: 181, lon: 360)>\n",
      "array([[[5177.4287, 5177.4287, 5177.4287, ..., 5177.4287, 5177.4287,\n",
      "         5177.4287],\n",
      "        [5176.853 , 5176.866 , 5176.8535, ..., 5176.841 , 5176.8535,\n",
      "         5176.8657],\n",
      "        [5174.3286, 5174.391 , 5174.453 , ..., 5174.1284, 5174.1787,\n",
      "         5174.241 ],\n",
      "        ...,\n",
      "        [5036.7285, 5036.4287, 5036.154 , ..., 5037.6914, 5037.379 ,\n",
      "         5037.066 ],\n",
      "        [5065.141 , 5065.041 , 5064.904 , ..., 5065.5786, 5065.4287,\n",
      "         5065.291 ],\n",
      "        [5098.0786, 5098.0786, 5098.0786, ..., 5098.0786, 5098.0786,\n",
      "         5098.0786]],\n",
      "\n",
      "       [[5167.7236, 5167.7236, 5167.7236, ..., 5167.7236, 5167.7236,\n",
      "         5167.7236],\n",
      "        [5165.4985, 5165.524 , 5165.5483, ..., 5165.461 , 5165.461 ,\n",
      "         5165.4863],\n",
      "        [5163.2363, 5163.3354, 5163.3853, ..., 5163.061 , 5163.1235,\n",
      "         5163.186 ],\n",
      "...\n",
      "        [5019.5728, 5018.9854, 5018.4106, ..., 5021.235 , 5020.648 ,\n",
      "         5020.1226],\n",
      "        [5022.173 , 5021.8604, 5021.523 , ..., 5023.1606, 5022.835 ,\n",
      "         5022.5107],\n",
      "        [5028.3726, 5028.3726, 5028.3726, ..., 5028.3726, 5028.3726,\n",
      "         5028.3726]],\n",
      "\n",
      "       [[5068.9097, 5068.9097, 5068.9097, ..., 5068.9097, 5068.9097,\n",
      "         5068.9097],\n",
      "        [5071.1973, 5071.172 , 5071.1597, ..., 5071.2344, 5071.2344,\n",
      "         5071.2095],\n",
      "        [5072.1846, 5072.1714, 5072.1597, ..., 5072.2466, 5072.234 ,\n",
      "         5072.222 ],\n",
      "        ...,\n",
      "        [5099.0596, 5098.5967, 5098.159 , ..., 5100.3716, 5099.947 ,\n",
      "         5099.497 ],\n",
      "        [5088.8965, 5088.659 , 5088.372 , ..., 5089.659 , 5089.409 ,\n",
      "         5089.159 ],\n",
      "        [5074.209 , 5074.209 , 5074.209 , ..., 5074.209 , 5074.209 ,\n",
      "         5074.209 ]]], dtype=float32)\n",
      "Coordinates:\n",
      "  * time     (time) datetime64[ns] 1988-01-01 1988-01-02 ... 1988-12-31\n",
      "    level    float32 500.0\n",
      "  * lat      (lat) float32 -90.0 -89.0 -88.0 -87.0 -86.0 ... 87.0 88.0 89.0 90.0\n",
      "  * lon      (lon) float32 0.0 1.0 2.0 3.0 4.0 ... 355.0 356.0 357.0 358.0 359.0\n"
     ]
    }
   ],
   "source": [
    "import xarray as xr\n",
    "\n",
    "\n",
    "def download_variable(var, yr):\n",
    "    if yr <= 1980:\n",
    "        dirlab = 'prsSI'\n",
    "    else:\n",
    "        dirlab = 'prsMO'\n",
    "    ds = xr.open_dataset(f'https://psl.noaa.gov/thredds/dodsC/Datasets/20thC_ReanV3/{dirlab}/{var}.{yr}.nc')\n",
    "\n",
    "    if var == 'hgt':\n",
    "        z500 = ds.hgt.sel(level=500.).resample(time='1D').mean(dim='time')\n",
    "        print(z500)\n",
    "        #z500_1 = ds.hgt.sel(level=500., time=slice(str(yr) + '-01-01', str(yr) + '-06-30'))\n",
    "        #z500_2 = ds.hgt.sel(level=500., time=slice(str(yr) + '-07-01', str(yr) + '-12-31'))\n",
    "        #z500_1.to_netcdf(f'/home/scratch/z500_{yr}_1.nc')\n",
    "        #z500_2.to_netcdf(f'/home/scratch/z500_{yr}_2.nc')\n",
    "        #os.system(f'ncecat z500_{yr}_1.nc z500_{yr}_2.nc z500_{yr}.nc')\n",
    "        \n",
    "        \n",
    "        \n",
    "download_variable('hgt', 1988)"
   ]
  }
 ],
 "metadata": {
  "kernelspec": {
   "display_name": "Python [conda env:pyEAE]",
   "language": "python",
   "name": "conda-env-pyEAE-py"
  },
  "language_info": {
   "codemirror_mode": {
    "name": "ipython",
    "version": 3
   },
   "file_extension": ".py",
   "mimetype": "text/x-python",
   "name": "python",
   "nbconvert_exporter": "python",
   "pygments_lexer": "ipython3",
   "version": "3.9.0"
  }
 },
 "nbformat": 4,
 "nbformat_minor": 5
}
