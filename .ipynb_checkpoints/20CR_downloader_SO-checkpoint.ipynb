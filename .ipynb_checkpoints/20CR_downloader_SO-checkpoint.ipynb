{
 "cells": [
  {
   "cell_type": "markdown",
   "id": "66082720-8111-4989-8ee8-b4b087e019b2",
   "metadata": {},
   "source": [
    "### Needed variables from 20CR; here are some links:\n",
    "- https://portal.nersc.gov/project/20C_Reanalysis//\n",
    "- https://psl.noaa.gov/data/gridded/data.20thC_ReanV3.html\n",
    "- https://psl.noaa.gov/thredds/catalog/Datasets/20thC_ReanV3/catalog.html"
   ]
  },
  {
   "cell_type": "markdown",
   "id": "2a0e6a48-dd99-4652-afd3-e1a235f07277",
   "metadata": {
    "jp-MarkdownHeadingCollapsed": true,
    "tags": []
   },
   "source": [
    "### ENSO\n",
    "- Skin temperature (also need land/sea mask?)\n",
    "- Mean sea-level pressure (just tahiti and darwin?)\n",
    "\n",
    "### MJO \n",
    "- Outgoing longwave radiation\n",
    "- $u$ and $v$ wind at 200-hPa (to calculate velocity potential)\n",
    "\n",
    "### PNA\n",
    "- $Z$ @ 500-hPa\n",
    "\n",
    "### AAM\n",
    "- $u$-wind on all pressure levels"
   ]
  },
  {
   "cell_type": "code",
   "execution_count": 11,
   "id": "17b645c0-24d8-42b3-90bf-c1d0d37b784b",
   "metadata": {},
   "outputs": [
    {
     "name": "stdout",
     "output_type": "stream",
     "text": [
      "<xarray.DataArray 'pres' (time: 366)>\n",
      "array([100927.38, 101018.66, 100965.15, ..., 101120.46, 100970.08, 100934.55],\n",
      "      dtype=float32)\n",
      "Coordinates:\n",
      "    lat      float32 -18.0\n",
      "    lon      float32 211.0\n",
      "  * time     (time) datetime64[ns] 1988-01-01 1988-01-02 ... 1988-12-31\n",
      "Attributes:\n",
      "    long_name:         daily mean 3-hourly Pressure at Surface\n",
      "    units:             Pa\n",
      "    GRIB_name:         PRES\n",
      "    var_desc:          Pressure\n",
      "    level_desc:        Surface\n",
      "    statistic:         Mean\n",
      "    parent_stat:       Individual Obs\n",
      "    standard_name:     air_pressure\n",
      "    valid_range:       [ 46500. 112000.]\n",
      "    statistic_method:  Ensemble mean is calculated by averaging over all 80 e...\n",
      "    GridType:          Cylindrical Equidistant Projection Grid\n",
      "    datum:             wgs84\n",
      "    dataset:           NOAA/CIRES/DOE 20th Century Reanalysis version 3mo Dai...\n",
      "    actual_range:      [ 51145.83 105943.04]\n",
      "    _ChunkSizes:       [  1 181 360]\n",
      "<xarray.DataArray 'pres' (time: 366)>\n",
      "array([100662.76, 100596.16, 100615.52, ..., 100551.21, 100458.45, 100496.17],\n",
      "      dtype=float32)\n",
      "Coordinates:\n",
      "    lat      float32 -12.0\n",
      "    lon      float32 131.0\n",
      "  * time     (time) datetime64[ns] 1988-01-01 1988-01-02 ... 1988-12-31\n",
      "Attributes:\n",
      "    long_name:         daily mean 3-hourly Pressure at Surface\n",
      "    units:             Pa\n",
      "    GRIB_name:         PRES\n",
      "    var_desc:          Pressure\n",
      "    level_desc:        Surface\n",
      "    statistic:         Mean\n",
      "    parent_stat:       Individual Obs\n",
      "    standard_name:     air_pressure\n",
      "    valid_range:       [ 46500. 112000.]\n",
      "    statistic_method:  Ensemble mean is calculated by averaging over all 80 e...\n",
      "    GridType:          Cylindrical Equidistant Projection Grid\n",
      "    datum:             wgs84\n",
      "    dataset:           NOAA/CIRES/DOE 20th Century Reanalysis version 3mo Dai...\n",
      "    actual_range:      [ 51145.83 105943.04]\n",
      "    _ChunkSizes:       [  1 181 360]\n"
     ]
    }
   ],
   "source": [
    "import xarray as xr\n",
    "\n",
    "\n",
    "def download_variable(var, yr):\n",
    "    \n",
    "    if yr <= 1980:\n",
    "        dirlab = 'sfcSI'\n",
    "    else:\n",
    "        dirlab = 'sfcMO'\n",
    "    ds = xr.open_dataset(f'https://psl.noaa.gov/thredds/dodsC/Datasets/20thC_ReanV3/Dailies/{dirlab}/{var}.{yr}.nc')\n",
    "    \n",
    "    hgt_ds = xr.open_dataset(f'https://psl.noaa.gov/thredds/dodsC/Datasets/20thC_ReanV3/timeInvariantMO/hgt.sfc.nc')\n",
    "    \n",
    "    temp_ds = xr.open_dataset(f'https://psl.noaa.gov/thredds/dodsC/Datasets/20thC_ReanV3/Dailies/{dirlab}/{var}.{yr}.nc')\n",
    "    if var == 'pres.sfc':\n",
    "\n",
    "        #Heights at Tahiti (17.6797 S, 149.4068 W)\n",
    "        hgtTA = hgt_ds.hgt.sel(lat = -18.).sel(lon = (360. - 149.))\n",
    "        \n",
    "        #Heights at Darwin  (-12.4637 S, 130.8444 E)\n",
    "        hgtDA = hgt_ds.hgt.sel(lat = -12.).sel(lon = 131.)\n",
    "        \n",
    "        \n",
    "        #Surface Pressure at Tahiti\n",
    "        sfcTA = ds.pres.sel(lat = -18.).sel(lon = (360. - 149.))\n",
    "        \n",
    "        #Surface Pressure at Darwin\n",
    "        sfcDA = ds.pres.sel(lat = -12.).sel(lon = 131.)\n",
    "        \n",
    "        \n",
    "        #Sea Level Pressure at Tahiti\n",
    "        slpTA = \n",
    "        \n",
    "        #Sea Level Pressure at Darwin\n",
    "        slpDA = \n",
    "        \n",
    "        print(slpTA)\n",
    "        print(slpDA)\n",
    "\n",
    "\n",
    "download_variable('pres.sfc', 1988)"
   ]
  },
  {
   "cell_type": "code",
   "execution_count": null,
   "id": "4522e8a1-cfea-4be8-90fb-67f0e81b5fe2",
   "metadata": {},
   "outputs": [],
   "source": []
  }
 ],
 "metadata": {
  "kernelspec": {
   "display_name": "Python [conda env:pyEAE]",
   "language": "python",
   "name": "conda-env-pyEAE-py"
  },
  "language_info": {
   "codemirror_mode": {
    "name": "ipython",
    "version": 3
   },
   "file_extension": ".py",
   "mimetype": "text/x-python",
   "name": "python",
   "nbconvert_exporter": "python",
   "pygments_lexer": "ipython3",
   "version": "3.9.0"
  }
 },
 "nbformat": 4,
 "nbformat_minor": 5
}
