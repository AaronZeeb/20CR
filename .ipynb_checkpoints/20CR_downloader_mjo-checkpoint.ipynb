{
 "cells": [
  {
   "cell_type": "markdown",
   "id": "66082720-8111-4989-8ee8-b4b087e019b2",
   "metadata": {},
   "source": [
    "### Needed variables from 20CR; here are some links:\n",
    "- https://portal.nersc.gov/project/20C_Reanalysis//\n",
    "- https://psl.noaa.gov/data/gridded/data.20thC_ReanV3.html\n",
    "- https://psl.noaa.gov/thredds/catalog/Datasets/20thC_ReanV3/catalog.html"
   ]
  },
  {
   "cell_type": "markdown",
   "id": "2a0e6a48-dd99-4652-afd3-e1a235f07277",
   "metadata": {},
   "source": [
    "### ENSO\n",
    "- Skin temperature (also need land/sea mask?)\n",
    "- Mean sea-level pressure (just tahiti and darwin?)\n",
    "\n",
    "### MJO \n",
    "- Outgoing longwave radiation\n",
    "- $u$ and $v$ wind at 200-hPa (to calculate velocity potential)\n",
    "\n",
    "### PNA\n",
    "- $Z$ @ 500-hPa\n",
    "\n",
    "### AAM\n",
    "- $u$-wind on all pressure levels"
   ]
  },
  {
   "cell_type": "code",
   "execution_count": 9,
   "id": "17b645c0-24d8-42b3-90bf-c1d0d37b784b",
   "metadata": {},
   "outputs": [],
   "source": [
    "import xarray as xr\n",
    "\n",
    "\n",
    "def download_variable(var, yr):\n",
    "    if yr <= 1980:\n",
    "        dirlab = 'Dailies/ntatFlxMO'\n",
    "    else:\n",
    "        dirlab = 'Dailies/ntatFlxMO'\n",
    "        \n",
    "    ds = xr.open_dataset(f'https://psl.noaa.gov/thredds/dodsC/Datasets/20thC_ReanV3/{dirlab}/{var}.{yr}.nc')\n",
    "    \n",
    "    if var == 'ulwrf.ntat':\n",
    "        # the MJO Indices Package needs the variable to be named olr, so lets do that!\n",
    "        ds = ds.rename({'ulwrf': 'olr'})\n",
    "        \n",
    "    \n",
    "\n",
    "    #if var == 'hgt':\n",
    "    #    z500 = ds.hgt.sel(level=500.).resample(time='1D').mean(dim='time')\n",
    "    #    print(z500)\n",
    "        #z500_1 = ds.hgt.sel(level=500., time=slice(str(yr) + '-01-01', str(yr) + '-06-30'))\n",
    "        #z500_2 = ds.hgt.sel(level=500., time=slice(str(yr) + '-07-01', str(yr) + '-12-31'))\n",
    "        #z500_1.to_netcdf(f'/home/scratch/z500_{yr}_1.nc')\n",
    "        #z500_2.to_netcdf(f'/home/scratch/z500_{yr}_2.nc')\n",
    "        #os.system(f'ncecat z500_{yr}_1.nc z500_{yr}_2.nc z500_{yr}.nc')\n",
    "\n",
    "\n",
    "#for yr in range(1836,2016):\n",
    "#    download_variable('ulwrf.ntat', yr)\n",
    "\n",
    "download_variable('ulwrf.ntat', 1988)"
   ]
  },
  {
   "cell_type": "code",
   "execution_count": null,
   "id": "898fce3d-2b24-4057-a451-e56ba051ff41",
   "metadata": {},
   "outputs": [],
   "source": []
  }
 ],
 "metadata": {
  "kernelspec": {
   "display_name": "Python [conda env:pyEAE]",
   "language": "python",
   "name": "conda-env-pyEAE-py"
  },
  "language_info": {
   "codemirror_mode": {
    "name": "ipython",
    "version": 3
   },
   "file_extension": ".py",
   "mimetype": "text/x-python",
   "name": "python",
   "nbconvert_exporter": "python",
   "pygments_lexer": "ipython3",
   "version": "3.9.0"
  }
 },
 "nbformat": 4,
 "nbformat_minor": 5
}
