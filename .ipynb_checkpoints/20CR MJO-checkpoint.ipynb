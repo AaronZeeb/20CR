{
 "cells": [
  {
   "cell_type": "code",
   "execution_count": 1,
   "id": "8b2511ba-8669-47c3-8bf6-dbf269ff0859",
   "metadata": {},
   "outputs": [
    {
     "ename": "SyntaxError",
     "evalue": "invalid syntax (3045087059.py, line 1)",
     "output_type": "error",
     "traceback": [
      "\u001b[0;36m  Input \u001b[0;32mIn [1]\u001b[0;36m\u001b[0m\n\u001b[0;31m    https://ecjoliver.weebly.com/mjo-reconstruction.html\u001b[0m\n\u001b[0m          ^\u001b[0m\n\u001b[0;31mSyntaxError\u001b[0m\u001b[0;31m:\u001b[0m invalid syntax\n"
     ]
    }
   ],
   "source": [
    "https://ecjoliver.weebly.com/mjo-reconstruction.html"
   ]
  },
  {
   "cell_type": "markdown",
   "id": "acece185-f950-4d00-810d-8e12f0331ca6",
   "metadata": {},
   "source": [
    "pip install mjoindices"
   ]
  },
  {
   "cell_type": "code",
   "execution_count": null,
   "id": "8d567cb0-87ac-4566-a16e-9b12fb2a51a6",
   "metadata": {},
   "outputs": [],
   "source": []
  }
 ],
 "metadata": {
  "kernelspec": {
   "display_name": "Python [conda env:pyEAE]",
   "language": "python",
   "name": "conda-env-pyEAE-py"
  },
  "language_info": {
   "codemirror_mode": {
    "name": "ipython",
    "version": 3
   },
   "file_extension": ".py",
   "mimetype": "text/x-python",
   "name": "python",
   "nbconvert_exporter": "python",
   "pygments_lexer": "ipython3",
   "version": "3.9.0"
  }
 },
 "nbformat": 4,
 "nbformat_minor": 5
}
