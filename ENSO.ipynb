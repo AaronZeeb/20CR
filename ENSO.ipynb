{
 "cells": [
  {
   "cell_type": "markdown",
   "id": "66082720-8111-4989-8ee8-b4b087e019b2",
   "metadata": {},
   "source": [
    "### Needed variables from 20CR; here are some links:\n",
    "- https://portal.nersc.gov/project/20C_Reanalysis//\n",
    "- https://psl.noaa.gov/data/gridded/data.20thC_ReanV3.html\n",
    "- https://psl.noaa.gov/thredds/catalog/Datasets/20thC_ReanV3/catalog.html"
   ]
  },
  {
   "cell_type": "markdown",
   "id": "2a0e6a48-dd99-4652-afd3-e1a235f07277",
   "metadata": {},
   "source": [
    "### ENSO\n",
    "- Skin temperature (also need land/sea mask?)\n",
    "- Mean sea-level pressure (just tahiti and darwin?)\n",
    "\n",
    "### MJO \n",
    "- Outgoing longwave radiation\n",
    "- $u$ and $v$ wind at 200-hPa (to calculate velocity potential)\n",
    "\n",
    "### PNA\n",
    "- $Z$ @ 500-hPa\n",
    "\n",
    "### AAM\n",
    "- $u$-wind on all pressure levels"
   ]
  },
  {
   "cell_type": "code",
   "execution_count": null,
   "id": "17b645c0-24d8-42b3-90bf-c1d0d37b784b",
   "metadata": {},
   "outputs": [],
   "source": [
    "import xarray as xr\n",
    "\n",
    "\n",
    "def download_variable(var, yr):\n",
    "    if yr <= 1980:\n",
    "        dirlab = 'prsSI'\n",
    "    else:\n",
    "        dirlab = 'prsMO'\n",
    "    ds = xr.open_dataset(f'https://psl.noaa.gov/thredds/dodsC/Datasets/20thC_ReanV3/{dirlab}/{var}.{yr}.nc')\n",
    "\n",
    "    if var == 'hgt':\n",
    "        z500 = ds.hgt.sel(level=500.).resample(time='1D').mean(dim='time')\n",
    "        print(z500)\n",
    "        #z500_1 = ds.hgt.sel(level=500., time=slice(str(yr) + '-01-01', str(yr) + '-06-30'))\n",
    "        #z500_2 = ds.hgt.sel(level=500., time=slice(str(yr) + '-07-01', str(yr) + '-12-31'))\n",
    "        #z500_1.to_netcdf(f'/home/scratch/z500_{yr}_1.nc')\n",
    "        #z500_2.to_netcdf(f'/home/scratch/z500_{yr}_2.nc')\n",
    "        #os.system(f'ncecat z500_{yr}_1.nc z500_{yr}_2.nc z500_{yr}.nc')\n",
    "        \n",
    "        \n",
    "        \n",
    "download_variable('hgt', 1988)"
   ]
  },
  {
   "cell_type": "code",
   "execution_count": null,
   "id": "1c22ef68-37a4-4a1c-91d7-cf69ae5f2acf",
   "metadata": {},
   "outputs": [],
   "source": [
    "def download_variable(var, yr):\n",
    "    if yr <= 1980:\n",
    "        dirlab = 'sfcSI'\n",
    "    else:\n",
    "        dirlab = 'sfcMO'\n",
    "    skt = xr.open_dataset(f'https://psl.noaa.gov/thredds/dodsC/Datasets/20thC_ReanV3/Dailies/{dirlab}/{var}.{yr}.nc')\n",
    "\n",
    "    if var == 'skt':\n",
    "        mean_skt = ds.skt.resample(time='1D').mean(dim='time')\n",
    "        print(mean_skt)\n",
    "        \n",
    "download_variable('skt', 1988)"
   ]
  },
  {
   "cell_type": "code",
   "execution_count": null,
   "id": "6b83a883-74f9-40b8-b8d1-8bbf205d5ed4",
   "metadata": {},
   "outputs": [],
   "source": [
    "ds_mask = xr.open_dataset('https://psl.noaa.gov/thredds/dodsC/Datasets/20thC_ReanV3/timeInvariantMO/land.nc')\n",
    "ds_mask"
   ]
  },
  {
   "cell_type": "code",
   "execution_count": null,
   "id": "5eb2e360-6e89-4648-a32b-cf395f7ce1b7",
   "metadata": {},
   "outputs": [],
   "source": []
  }
 ],
 "metadata": {
  "kernelspec": {
   "display_name": "Python [conda env:pyEAE]",
   "language": "python",
   "name": "conda-env-pyEAE-py"
  },
  "language_info": {
   "codemirror_mode": {
    "name": "ipython",
    "version": 3
   },
   "file_extension": ".py",
   "mimetype": "text/x-python",
   "name": "python",
   "nbconvert_exporter": "python",
   "pygments_lexer": "ipython3",
   "version": "3.9.0"
  }
 },
 "nbformat": 4,
 "nbformat_minor": 5
}
